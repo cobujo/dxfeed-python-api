{
 "cells": [
  {
   "cell_type": "markdown",
   "metadata": {},
   "source": [
    "## Custom listener\n",
    "\n",
    "Since dxfeed v0.4.0, there is another way to implement the logic for processing incoming events (see Custom Event Handler example). \n",
    "\n",
    "This tutorial is for cases that are not covered by previous tutorials."
   ]
  },
  {
   "cell_type": "markdown",
   "metadata": {},
   "source": [
    "### Pipeline\n",
    "1. Create cython package\n",
    "2. Build\n",
    "3. Install\n",
    "4. Import\n",
    "5. Use!"
   ]
  },
  {
   "cell_type": "markdown",
   "metadata": {},
   "source": [
    "### Create cython package\n",
    "**First of all let's create special directory for custom listener package**"
   ]
  },
  {
   "cell_type": "code",
   "execution_count": null,
   "metadata": {},
   "outputs": [],
   "source": [
    "%%bash\n",
    "rm custom_listener -rf\n",
    "mkdir custom_listener"
   ]
  },
  {
   "cell_type": "code",
   "execution_count": null,
   "metadata": {},
   "outputs": [],
   "source": [
    "%cd custom_listener"
   ]
  },
  {
   "cell_type": "markdown",
   "metadata": {},
   "source": [
    "#### Create .pyx file with the whole logic\n",
    "\n",
    "Here we will write listener for Trade event type that will store only price and ticker"
   ]
  },
  {
   "cell_type": "code",
   "execution_count": null,
   "metadata": {},
   "outputs": [],
   "source": [
    "%%writefile cust.pyx\n",
    "from dxfeed.core.listeners.listener cimport *\n",
    "from dxfeed.core.utils.helpers cimport unicode_from_dxf_const_string_t\n",
    "from dxfeed.core.utils.handler cimport EventHandler\n",
    "\n",
    "cdef void trade_custom_listener(int event_type,\n",
    "                                 dxf_const_string_t symbol_name,\n",
    "                                 const dxf_event_data_t*data,\n",
    "                                 int data_count, void*user_data) nogil:\n",
    "    cdef dxf_trade_t*trades = <dxf_trade_t*> data\n",
    "    with gil:\n",
    "        py_data = <EventHandler> user_data\n",
    "\n",
    "        for i in range(data_count):\n",
    "            py_data.__update([unicode_from_dxf_const_string_t(symbol_name),\n",
    "                              trades[i].price])\n",
    "\n",
    "tc = FuncWrapper.make_from_ptr(trade_custom_listener)"
   ]
  },
  {
   "cell_type": "code",
   "execution_count": null,
   "metadata": {},
   "outputs": [],
   "source": [
    "!ls"
   ]
  },
  {
   "cell_type": "markdown",
   "metadata": {},
   "source": [
    "- Line 2 imports all type definitions and function wrapper from installed dxfeed package\n",
    "- Line 3 imports helper function `unicode_from_dxf_const_string_t`\n",
    "- Line 4 import EventHandler class\n",
    "- Lines 6-16 stand for listener logic\n",
    "- nogil and with gil in lines 9 and 11 are important to prevent data corruption. More details [stackoverflow](https://stackoverflow.com/questions/57805481/)\n",
    "- Line 10 converts the data to trades data structure. **It is important to know what data structure has each event. This information can be found in EventData.pxd in the dxfeed package folder**\n",
    "- Line 12 stands for casting user data which is provided by subscription\n",
    "- Lines 14-16 we just append price and symbol to subscription dict\n",
    "- Line 18, here we wrap function to have access to it from python"
   ]
  },
  {
   "cell_type": "markdown",
   "metadata": {},
   "source": [
    "#### Create setup.py to build the binary file"
   ]
  },
  {
   "cell_type": "code",
   "execution_count": null,
   "metadata": {},
   "outputs": [],
   "source": [
    "%%writefile setup.py\n",
    "from Cython.Build import cythonize\n",
    "from setuptools import setup, Extension\n",
    "from dxfeed.core.utils.helpers import get_include\n",
    "\n",
    "ext = Extension(name=\"cust\",\n",
    "                sources=[\"cust.pyx\"],\n",
    "                include_dirs=get_include()\n",
    "                )\n",
    "\n",
    "setup(\n",
    "    ext_modules=cythonize([ext], language_level=3)\n",
    ")"
   ]
  },
  {
   "cell_type": "markdown",
   "metadata": {},
   "source": [
    "- Line 4 imports dxfeed to get access to `get_include` function, which provide paths to .pxd and .h header files"
   ]
  },
  {
   "cell_type": "markdown",
   "metadata": {},
   "source": [
    "#### Build the binary file"
   ]
  },
  {
   "cell_type": "code",
   "execution_count": null,
   "metadata": {},
   "outputs": [],
   "source": [
    "!python setup.py build_ext --inplace"
   ]
  },
  {
   "cell_type": "code",
   "execution_count": null,
   "metadata": {},
   "outputs": [],
   "source": [
    "!ls"
   ]
  },
  {
   "cell_type": "markdown",
   "metadata": {},
   "source": [
    "### Import necessary modules"
   ]
  },
  {
   "cell_type": "code",
   "execution_count": null,
   "metadata": {},
   "outputs": [],
   "source": [
    "import cust\n",
    "from dxfeed.core import DXFeedPy as dxc\n",
    "from dxfeed.core.utils.handler import EventHandler"
   ]
  },
  {
   "cell_type": "markdown",
   "metadata": {},
   "source": [
    "### Create Custom Event Handler\n",
    "See Custom Event Handler tutorial for more details"
   ]
  },
  {
   "cell_type": "code",
   "execution_count": null,
   "metadata": {},
   "outputs": [],
   "source": [
    "class CustomHandler(EventHandler):\n",
    "    def __init__(self):\n",
    "        self.data = list()\n",
    "        \n",
    "    def update(self, event):\n",
    "        self.data.append(event)\n",
    "        \n",
    "    def get_data(self):\n",
    "        return self.data"
   ]
  },
  {
   "cell_type": "code",
   "execution_count": null,
   "metadata": {},
   "outputs": [],
   "source": [
    "con = dxc.dxf_create_connection()\n",
    "sub = dxc.dxf_create_subscription(con, 'Trade')"
   ]
  },
  {
   "cell_type": "markdown",
   "metadata": {},
   "source": [
    "Attach custom handler"
   ]
  },
  {
   "cell_type": "code",
   "execution_count": null,
   "metadata": {},
   "outputs": [],
   "source": [
    "handler = CustomHandler()\n",
    "sub.set_event_handler(handler)"
   ]
  },
  {
   "cell_type": "markdown",
   "metadata": {},
   "source": [
    "Attach custom listener"
   ]
  },
  {
   "cell_type": "code",
   "execution_count": null,
   "metadata": {},
   "outputs": [],
   "source": [
    "dxc.dxf_attach_custom_listener(sub, cust.tc, ['Symbol', 'Price'])\n",
    "dxc.dxf_add_symbols(sub, ['AAPL', 'MSFT'])"
   ]
  },
  {
   "cell_type": "markdown",
   "metadata": {},
   "source": [
    "Get data"
   ]
  },
  {
   "cell_type": "code",
   "execution_count": null,
   "metadata": {},
   "outputs": [],
   "source": [
    "handler.get_data()[-5:]"
   ]
  },
  {
   "cell_type": "code",
   "execution_count": null,
   "metadata": {},
   "outputs": [],
   "source": [
    "dxc.dxf_detach_listener(sub)"
   ]
  }
 ],
 "metadata": {
  "kernelspec": {
   "display_name": "Python 3",
   "language": "python",
   "name": "python3"
  },
  "language_info": {
   "codemirror_mode": {
    "name": "ipython",
    "version": 3
   },
   "file_extension": ".py",
   "mimetype": "text/x-python",
   "name": "python",
   "nbconvert_exporter": "python",
   "pygments_lexer": "ipython3",
   "version": "3.7.3"
  }
 },
 "nbformat": 4,
 "nbformat_minor": 2
}
