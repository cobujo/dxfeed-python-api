{
 "cells": [
  {
   "cell_type": "markdown",
   "metadata": {},
   "source": [
    "## Quick start: Custom Handler Example"
   ]
  },
  {
   "cell_type": "markdown",
   "metadata": {},
   "source": [
    "### Import package"
   ]
  },
  {
   "cell_type": "code",
   "execution_count": null,
   "metadata": {},
   "outputs": [],
   "source": [
    "import dxfeed as dx\n",
    "from datetime import datetime  # for timed subscription\n",
    "from dateutil.relativedelta import relativedelta"
   ]
  },
  {
   "cell_type": "markdown",
   "metadata": {},
   "source": [
    "### Configure and create connection with Endpoint class\n",
    "Create instance of Endpoint class which will connect provided address. "
   ]
  },
  {
   "cell_type": "code",
   "execution_count": null,
   "metadata": {},
   "outputs": [],
   "source": [
    "endpoint = dx.Endpoint('demo.dxfeed.com:7300')"
   ]
  },
  {
   "cell_type": "markdown",
   "metadata": {},
   "source": [
    "### Configure and create subscription\n",
    "You should specify event type. For timed subscription (conflated stream) you should also provide time to start subscription from."
   ]
  },
  {
   "cell_type": "code",
   "execution_count": null,
   "metadata": {},
   "outputs": [],
   "source": [
    "candle_sub = endpoint.create_subscription('Candle', date_time=datetime.now() - relativedelta(minutes=30))"
   ]
  },
  {
   "cell_type": "code",
   "execution_count": null,
   "metadata": {},
   "outputs": [],
   "source": [
    "class DiffHandler(dx.EventHandler):\n",
    "    def __init__(self):\n",
    "        self.__prev_open = 0\n",
    "        self.__prev_high = 0\n",
    "        self.__prev_low = 0\n",
    "        self.__prev_close = 0\n",
    "        self.__prev_volume = 0\n",
    "        self.volume_changes = list()\n",
    "        self.counter = 0\n",
    "        \n",
    "    def update(self, event):\n",
    "        if event[12] == event[12]:  # AskVolume not nan\n",
    "            print(f'Symbol: {event[0]}')\n",
    "            print(f'Open changed by: {event[5] - self.__prev_open}')\n",
    "            self.__prev_open = event[5]\n",
    "            print(f'High changed by: {event[6] - self.__prev_high}')\n",
    "            self.__prev_high = event[6]\n",
    "            print(f'Open changed by: {event[7] - self.__prev_low}')\n",
    "            self.__prev_low = event[7]\n",
    "            print(f'Close changed by: {event[8] - self.__prev_close}')\n",
    "            self.__prev_close = event[8]\n",
    "            # Volume logic\n",
    "            vol_change = event[12] - self.__prev_volume\n",
    "            self.volume_changes.append(vol_change)\n",
    "            self.counter +=1\n",
    "            print(f'Volume changed by: {vol_change}, from {self.__prev_volume}, to {event[12]}')\n",
    "            self.__prev_volume = event[12]\n",
    "            print(f'Ask events prcessed: {self.counter}')\n",
    "            print('-------------------')\n",
    "            if self.counter % 10 == 0:\n",
    "                print(f'Average volume change for 10 past ask events is: {sum(self.volume_changes) / len(self.volume_changes)}')\n",
    "                self.volume_changes.clear()\n",
    "                print('-------------------')"
   ]
  },
  {
   "cell_type": "code",
   "execution_count": null,
   "metadata": {},
   "outputs": [],
   "source": [
    "handler = DiffHandler()\n",
    "candle_sub.set_event_handler(handler).add_symbols(['AAPL'])"
   ]
  },
  {
   "cell_type": "markdown",
   "metadata": {},
   "source": [
    "### Close subscription"
   ]
  },
  {
   "cell_type": "code",
   "execution_count": null,
   "metadata": {},
   "outputs": [],
   "source": [
    "candle_sub.close_subscription()"
   ]
  },
  {
   "cell_type": "markdown",
   "metadata": {},
   "source": [
    "### Close connection"
   ]
  },
  {
   "cell_type": "code",
   "execution_count": null,
   "metadata": {},
   "outputs": [],
   "source": [
    "endpoint.close_connection()\n",
    "print(f'Connection status: {endpoint.connection_status}')"
   ]
  },
  {
   "cell_type": "code",
   "execution_count": null,
   "metadata": {},
   "outputs": [],
   "source": []
  }
 ],
 "metadata": {
  "kernelspec": {
   "display_name": "Python 3",
   "language": "python",
   "name": "python3"
  },
  "language_info": {
   "codemirror_mode": {
    "name": "ipython",
    "version": 3
   },
   "file_extension": ".py",
   "mimetype": "text/x-python",
   "name": "python",
   "nbconvert_exporter": "python",
   "pygments_lexer": "ipython3",
   "version": "3.7.3"
  }
 },
 "nbformat": 4,
 "nbformat_minor": 4
}
