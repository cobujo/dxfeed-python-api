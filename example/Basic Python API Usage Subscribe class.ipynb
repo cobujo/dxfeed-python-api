{
 "cells": [
  {
   "cell_type": "markdown",
   "metadata": {},
   "source": [
    "# Python API via C API"
   ]
  },
  {
   "cell_type": "markdown",
   "metadata": {},
   "source": [
    "## Installation\n",
    "To compile project you will need Cython and Visual Studio Build Tools 2017\n",
    "To start compilation run  `./run.sh` in the root directory of the project"
   ]
  },
  {
   "cell_type": "markdown",
   "metadata": {},
   "source": [
    "## Import"
   ]
  },
  {
   "cell_type": "code",
   "execution_count": null,
   "metadata": {},
   "outputs": [],
   "source": [
    "%load_ext cython"
   ]
  },
  {
   "cell_type": "code",
   "execution_count": null,
   "metadata": {},
   "outputs": [],
   "source": [
    "%%cython \n",
    "cdef dict abc = {'a': [1,2,3]}\n",
    "cdef void * abc_ptr = <void *>abc\n",
    "cdef dict abc_back = <dict>abc_ptr\n",
    "abc_back.update({'b': [3,2,1]})\n",
    "print(abc_back['b'])\n",
    "print((<dict>abc_ptr)['a'])\n",
    "print(type(abc))"
   ]
  },
  {
   "cell_type": "code",
   "execution_count": null,
   "metadata": {},
   "outputs": [],
   "source": [
    "%%cython\n",
    "cdef class A:\n",
    "    cdef dict abc \n",
    "    cdef void * abc_ptr \n",
    "    cdef dict abc_back \n",
    "    \n",
    "    def __init__(self):\n",
    "        self.abc = {'a': [1,2,3]}\n",
    "        self.abc_ptr = <void *>self.abc\n",
    "        self.abc_back = <dict>self.abc_ptr\n",
    "    \n",
    "    def add_smth(self, s, l):\n",
    "        self.abc_back.update({s: l})\n",
    "        \n",
    "    def print_all(self):\n",
    "        print(self.abc_back['b'])\n",
    "        print((<dict>self.abc_ptr)['a'])\n",
    "        print(type(self.abc))\n",
    "\n",
    "ab = A()\n",
    "ab.add_smth('b', [1,3,5])\n",
    "ab.print_all()"
   ]
  },
  {
   "cell_type": "code",
   "execution_count": null,
   "metadata": {},
   "outputs": [],
   "source": []
  },
  {
   "cell_type": "code",
   "execution_count": 1,
   "metadata": {},
   "outputs": [],
   "source": [
    "import sys\n",
    "sys.path.append('../')\n",
    "import lib"
   ]
  },
  {
   "cell_type": "markdown",
   "metadata": {},
   "source": [
    "All the operations will be performed via Subscription class. So to start working with it you have to create an instance."
   ]
  },
  {
   "cell_type": "code",
   "execution_count": 2,
   "metadata": {},
   "outputs": [],
   "source": [
    "trade_sub = lib.Subscription('Trade')"
   ]
  },
  {
   "cell_type": "markdown",
   "metadata": {},
   "source": [
    "The class has property `data` which for now contains price and volume.\n",
    "First value is the price, second - volume, last column represents whether the data is real."
   ]
  },
  {
   "cell_type": "code",
   "execution_count": 3,
   "metadata": {},
   "outputs": [
    {
     "ename": "AttributeError",
     "evalue": "'dict' object has no attribute 'print_list'",
     "output_type": "error",
     "traceback": [
      "\u001b[1;31m---------------------------------------------------------------------------\u001b[0m",
      "\u001b[1;31mAttributeError\u001b[0m                            Traceback (most recent call last)",
      "\u001b[1;32m<ipython-input-3-976bfc7c2cf5>\u001b[0m in \u001b[0;36m<module>\u001b[1;34m\u001b[0m\n\u001b[1;32m----> 1\u001b[1;33m \u001b[0mtrade_sub\u001b[0m\u001b[1;33m.\u001b[0m\u001b[0mdata\u001b[0m\u001b[1;33m.\u001b[0m\u001b[0mprint_list\u001b[0m\u001b[1;33m(\u001b[0m\u001b[1;33m)\u001b[0m\u001b[1;33m\u001b[0m\u001b[1;33m\u001b[0m\u001b[0m\n\u001b[0m",
      "\u001b[1;31mAttributeError\u001b[0m: 'dict' object has no attribute 'print_list'"
     ]
    }
   ],
   "source": [
    "trade_sub.data.print_list()"
   ]
  },
  {
   "cell_type": "markdown",
   "metadata": {},
   "source": [
    "## Usage\n",
    "To start using the API you have to create connection, create subscription and add symbols you want to get. After that you are ready to recieve events, to do this you have to attach listener. To stop recieving the events you have to detach listener"
   ]
  },
  {
   "cell_type": "code",
   "execution_count": 4,
   "metadata": {},
   "outputs": [],
   "source": [
    "trade_sub.dxf_create_connection()\n",
    "trade_sub.dxf_create_subscription()\n",
    "trade_sub.dxf_add_symbols(['AAPL', 'MSFT'])"
   ]
  },
  {
   "cell_type": "markdown",
   "metadata": {},
   "source": [
    "In the chunk above we created the subscription on Trade events for AAPL ticker. Next we will attach listener."
   ]
  },
  {
   "cell_type": "code",
   "execution_count": 5,
   "metadata": {},
   "outputs": [],
   "source": [
    "trade_sub.attach_listener()"
   ]
  },
  {
   "cell_type": "markdown",
   "metadata": {},
   "source": [
    "Once you've attached the listener the data is collected in `lib.data`. Wait several seconds to see the data"
   ]
  },
  {
   "cell_type": "code",
   "execution_count": 11,
   "metadata": {},
   "outputs": [
    {
     "data": {
      "text/plain": [
       "{'columns': [], 'data': []}"
      ]
     },
     "execution_count": 11,
     "metadata": {},
     "output_type": "execute_result"
    }
   ],
   "source": [
    "trade_sub.data"
   ]
  },
  {
   "cell_type": "markdown",
   "metadata": {},
   "source": [
    "Now we decide, that we have recieved enough data, stop listening:"
   ]
  },
  {
   "cell_type": "code",
   "execution_count": null,
   "metadata": {},
   "outputs": [],
   "source": [
    "trade_sub.detach_listener()"
   ]
  },
  {
   "cell_type": "markdown",
   "metadata": {},
   "source": [
    "The next thing you can do is to pop data from the head (FIFO prinple). The method returns python list"
   ]
  },
  {
   "cell_type": "code",
   "execution_count": null,
   "metadata": {},
   "outputs": [],
   "source": [
    "head = trade_sub.data.pop()\n",
    "head"
   ]
  },
  {
   "cell_type": "code",
   "execution_count": null,
   "metadata": {},
   "outputs": [],
   "source": [
    "type(head)"
   ]
  },
  {
   "cell_type": "markdown",
   "metadata": {},
   "source": [
    "To clean the data call special method:"
   ]
  },
  {
   "cell_type": "code",
   "execution_count": null,
   "metadata": {},
   "outputs": [],
   "source": [
    "trade_sub.data.delete_list()\n",
    "trade_sub.data.print_list()"
   ]
  }
 ],
 "metadata": {
  "kernelspec": {
   "display_name": "Python 3",
   "language": "python",
   "name": "python3"
  },
  "language_info": {
   "codemirror_mode": {
    "name": "ipython",
    "version": 3
   },
   "file_extension": ".py",
   "mimetype": "text/x-python",
   "name": "python",
   "nbconvert_exporter": "python",
   "pygments_lexer": "ipython3",
   "version": "3.7.1"
  }
 },
 "nbformat": 4,
 "nbformat_minor": 2
}
