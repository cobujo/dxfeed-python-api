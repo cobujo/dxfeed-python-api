{
 "cells": [
  {
   "cell_type": "markdown",
   "metadata": {},
   "source": [
    "# Python API via C API"
   ]
  },
  {
   "cell_type": "markdown",
   "metadata": {},
   "source": [
    "## Installation\n",
    "To compile project you will need Cython and Visual Studio Build Tools 2017\n",
    "To start compilation run  `./run.sh` in the root directory of the project"
   ]
  },
  {
   "cell_type": "markdown",
   "metadata": {},
   "source": [
    "## Import"
   ]
  },
  {
   "cell_type": "code",
   "execution_count": 5,
   "metadata": {},
   "outputs": [],
   "source": [
    "import sys\n",
    "sys.path.append('../')\n",
    "import lib"
   ]
  },
  {
   "cell_type": "markdown",
   "metadata": {},
   "source": [
    "All the data, that might be used in Python contains in class `lib.data`. To see the contents use `print_list()` method."
   ]
  },
  {
   "cell_type": "code",
   "execution_count": 6,
   "metadata": {},
   "outputs": [
    {
     "data": {
      "text/plain": [
       "<lib.wrapper.connect.WrapperClass at 0x20047a6ba30>"
      ]
     },
     "execution_count": 6,
     "metadata": {},
     "output_type": "execute_result"
    }
   ],
   "source": [
    "lib.data"
   ]
  },
  {
   "cell_type": "markdown",
   "metadata": {},
   "source": [
    "First value is the price, second - volume, last column represents whether the data is real."
   ]
  },
  {
   "cell_type": "code",
   "execution_count": 7,
   "metadata": {},
   "outputs": [
    {
     "name": "stdout",
     "output_type": "stream",
     "text": [
      "1.086962886487e-311 2.126078137320866e+289 False\n"
     ]
    }
   ],
   "source": [
    "lib.data.print_list()"
   ]
  },
  {
   "cell_type": "markdown",
   "metadata": {},
   "source": [
    "## Usage\n",
    "To start using the API you have to create connection, create subscription and add symbols you want to get. After that you are ready to recieve events, to do this you have to attach listener. To stop recieving the events you have to detach listener"
   ]
  },
  {
   "cell_type": "code",
   "execution_count": 8,
   "metadata": {},
   "outputs": [
    {
     "name": "stdout",
     "output_type": "stream",
     "text": [
      "added\n"
     ]
    }
   ],
   "source": [
    "lib.dxf_create_connection()\n",
    "lib.dxf_create_subscription('Trade')\n",
    "lib.dxf_add_symbols(['AAPL'])"
   ]
  },
  {
   "cell_type": "markdown",
   "metadata": {},
   "source": [
    "In the chunk above we created the subscription on Trade events for AAPL ticker. Next we will attach listener."
   ]
  },
  {
   "cell_type": "code",
   "execution_count": 6,
   "metadata": {},
   "outputs": [],
   "source": [
    "lib.attach_listener()"
   ]
  },
  {
   "cell_type": "markdown",
   "metadata": {},
   "source": [
    "Once you've attached the listener the data is collected in `lib.data`. Wait several seconds to see the data"
   ]
  },
  {
   "cell_type": "code",
   "execution_count": 12,
   "metadata": {},
   "outputs": [
    {
     "name": "stdout",
     "output_type": "stream",
     "text": [
      "203.6748 292.0 True\n",
      "203.6748 292.0 True\n",
      "203.6748 292.0 True\n",
      "203.6748 292.0 True\n",
      "203.6748 292.0 True\n",
      "203.6748 292.0 True\n",
      "203.67 100.0 True\n",
      "203.67 100.0 True\n",
      "203.675 100.0 True\n",
      "203.675 100.0 True\n",
      "203.675 100.0 True\n",
      "203.675 100.0 True\n",
      "1.054826468074e-311 0.0 False\n"
     ]
    }
   ],
   "source": [
    "lib.data.print_list()"
   ]
  },
  {
   "cell_type": "markdown",
   "metadata": {},
   "source": [
    "Now we decide, that we have recieved enough data, stop listening:"
   ]
  },
  {
   "cell_type": "code",
   "execution_count": 13,
   "metadata": {},
   "outputs": [],
   "source": [
    "lib.detach_listener()"
   ]
  },
  {
   "cell_type": "markdown",
   "metadata": {},
   "source": [
    "The next thing you can do is to pop data from the head (FIFO prinple). The method returns python list"
   ]
  },
  {
   "cell_type": "code",
   "execution_count": 52,
   "metadata": {},
   "outputs": [
    {
     "data": {
      "text/plain": [
       "[203.66, 153.0]"
      ]
     },
     "execution_count": 52,
     "metadata": {},
     "output_type": "execute_result"
    }
   ],
   "source": [
    "head = lib.data.pop()\n",
    "head"
   ]
  },
  {
   "cell_type": "code",
   "execution_count": 53,
   "metadata": {},
   "outputs": [
    {
     "data": {
      "text/plain": [
       "list"
      ]
     },
     "execution_count": 53,
     "metadata": {},
     "output_type": "execute_result"
    }
   ],
   "source": [
    "type(head)"
   ]
  },
  {
   "cell_type": "markdown",
   "metadata": {},
   "source": [
    "To clean the data call special method:"
   ]
  },
  {
   "cell_type": "code",
   "execution_count": null,
   "metadata": {},
   "outputs": [],
   "source": [
    "lib.data.delete_list()\n",
    "lib.data.print_list()"
   ]
  }
 ],
 "metadata": {
  "kernelspec": {
   "display_name": "Python 3",
   "language": "python",
   "name": "python3"
  }
 },
 "nbformat": 4,
 "nbformat_minor": 2
}
