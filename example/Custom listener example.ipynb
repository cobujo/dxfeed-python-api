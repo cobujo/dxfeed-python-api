{
 "cells": [
  {
   "cell_type": "markdown",
   "metadata": {},
   "source": [
    "## Custom listener\n",
    "This is the tutorial, how to write custom listener"
   ]
  },
  {
   "cell_type": "markdown",
   "metadata": {},
   "source": [
    "## Pipeline\n",
    "1. Create cython package\n",
    "2. Build\n",
    "3. Install\n",
    "4. Import\n",
    "5. Use!"
   ]
  },
  {
   "cell_type": "markdown",
   "metadata": {},
   "source": [
    "### Create cython package\n",
    "#### First of all let's create special directory for custom listener package"
   ]
  },
  {
   "cell_type": "code",
   "execution_count": null,
   "metadata": {},
   "outputs": [],
   "source": [
    "%%bash\n",
    "rm custom_listener -r\n",
    "rm ../custom_listener -r\n",
    "mkdir custom_listener"
   ]
  },
  {
   "cell_type": "code",
   "execution_count": null,
   "metadata": {},
   "outputs": [],
   "source": [
    "%cd custom_listener"
   ]
  },
  {
   "cell_type": "markdown",
   "metadata": {},
   "source": [
    "#### Create .pyx file with the whole logic\n",
    "\n",
    "Here we will write listener for Trade event type that will store only price and ticker"
   ]
  },
  {
   "cell_type": "code",
   "execution_count": null,
   "metadata": {},
   "outputs": [],
   "source": [
    "%%writefile cust.pyx\n",
    "from dxpyfeed.wrapper.listeners.listener cimport *\n",
    "from dxpyfeed.wrapper.utils.helpers cimport *\n",
    "\n",
    "cdef void trade_custom_listener(int event_type, dxf_const_string_t symbol_name,\n",
    "                                const dxf_event_data_t* data, int data_count, void* user_data) nogil:\n",
    "\n",
    "    cdef dxf_trade_t* trades = <dxf_trade_t*>data\n",
    "    with gil:\n",
    "        py_data = <dict>user_data\n",
    "\n",
    "        for i in range(data_count):\n",
    "            py_data['data'].append([unicode_from_dxf_const_string_t(symbol_name),\n",
    "                                    trades[i].price\n",
    "                                   ]\n",
    "                                   )\n",
    "\n",
    "tc = FuncWrapper.make_from_ptr(trade_custom_listener)"
   ]
  },
  {
   "cell_type": "code",
   "execution_count": null,
   "metadata": {},
   "outputs": [],
   "source": [
    "!ls"
   ]
  },
  {
   "cell_type": "markdown",
   "metadata": {},
   "source": [
    "- Line 2 imports all type definitions and function wrapper from installed dxpyfeed package\n",
    "- Line 3 imports helper functions like `unicode_from_dxf_const_string_t` in this example\n",
    "- Lines 5-15 stand for listener logic\n",
    "- nogil and with gil in lines 6 and 9 are important to prevent data corruption. More details [stackoverflow](https://stackoverflow.com/questions/57805481/)\n",
    "- Line 8 converts the data to trades data structure. **It is important to know what data structure has each event. This information can be found in EventData.pxd in the dxpyfeed package folder**\n",
    "- Line 10 stands for casting user data which is provided by subscription\n",
    "- Lines 12-16 we just append price and symbol to subscription dict\n",
    "- Line 18, here we wrap function to have access to it from python"
   ]
  },
  {
   "cell_type": "markdown",
   "metadata": {},
   "source": [
    "#### Create setup.py to build the binary file"
   ]
  },
  {
   "cell_type": "code",
   "execution_count": null,
   "metadata": {},
   "outputs": [],
   "source": [
    "%%writefile setup.py\n",
    "from Cython.Build import cythonize\n",
    "from setuptools import setup, Extension\n",
    "import dxpyfeed\n",
    "\n",
    "ext = Extension(name=\"cust\",\n",
    "                sources=[\"cust.pyx\"],\n",
    "                include_dirs=dxpyfeed.get_include()\n",
    "                )\n",
    "\n",
    "setup(\n",
    "    ext_modules=cythonize([ext], language_level=3)\n",
    ")"
   ]
  },
  {
   "cell_type": "markdown",
   "metadata": {},
   "source": [
    "- Line 4 imports dxpyfeed to get access to `get_include` function, which provide paths to .pxd and .h header files"
   ]
  },
  {
   "cell_type": "markdown",
   "metadata": {},
   "source": [
    "### Build the binary file"
   ]
  },
  {
   "cell_type": "code",
   "execution_count": null,
   "metadata": {},
   "outputs": [],
   "source": [
    "!python setup.py build_ext --inplace"
   ]
  },
  {
   "cell_type": "code",
   "execution_count": null,
   "metadata": {},
   "outputs": [],
   "source": [
    "!ls"
   ]
  },
  {
   "cell_type": "markdown",
   "metadata": {},
   "source": [
    "## Import\n",
    "We will skip installation part"
   ]
  },
  {
   "cell_type": "code",
   "execution_count": null,
   "metadata": {},
   "outputs": [],
   "source": [
    "import cust\n",
    "import dxpyfeed as dxp"
   ]
  },
  {
   "cell_type": "code",
   "execution_count": null,
   "metadata": {},
   "outputs": [],
   "source": [
    "con = dxp.dxf_create_connection()\n",
    "sub = dxp.dxf_create_subscription(con, 'Trade')\n",
    "dxp.dxf_add_symbols(sub, ['AAPL', 'MSFT'])"
   ]
  },
  {
   "cell_type": "markdown",
   "metadata": {},
   "source": [
    "Attach custom listener"
   ]
  },
  {
   "cell_type": "code",
   "execution_count": null,
   "metadata": {},
   "outputs": [],
   "source": [
    "dxp.dxf_attach_custom_listener(sub, cust.tc, ['Symbol', 'Price'])"
   ]
  },
  {
   "cell_type": "code",
   "execution_count": null,
   "metadata": {},
   "outputs": [],
   "source": [
    "sub.get_data()"
   ]
  },
  {
   "cell_type": "code",
   "execution_count": null,
   "metadata": {},
   "outputs": [],
   "source": [
    "dxp.dxf_detach_listener(sub)"
   ]
  }
 ],
 "metadata": {
  "kernelspec": {
   "display_name": "Python 3",
   "language": "python",
   "name": "python3"
  },
  "language_info": {
   "codemirror_mode": {
    "name": "ipython",
    "version": 3
   },
   "file_extension": ".py",
   "mimetype": "text/x-python",
   "name": "python",
   "nbconvert_exporter": "python",
   "pygments_lexer": "ipython3",
   "version": "3.7.1"
  }
 },
 "nbformat": 4,
 "nbformat_minor": 2
}
